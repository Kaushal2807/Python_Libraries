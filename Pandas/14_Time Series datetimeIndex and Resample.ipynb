{
 "cells": [
  {
   "cell_type": "code",
   "execution_count": 15,
   "id": "e86143a4",
   "metadata": {},
   "outputs": [
    {
     "data": {
      "text/html": [
       "<div>\n",
       "<style scoped>\n",
       "    .dataframe tbody tr th:only-of-type {\n",
       "        vertical-align: middle;\n",
       "    }\n",
       "\n",
       "    .dataframe tbody tr th {\n",
       "        vertical-align: top;\n",
       "    }\n",
       "\n",
       "    .dataframe thead th {\n",
       "        text-align: right;\n",
       "    }\n",
       "</style>\n",
       "<table border=\"1\" class=\"dataframe\">\n",
       "  <thead>\n",
       "    <tr style=\"text-align: right;\">\n",
       "      <th></th>\n",
       "      <th>Open</th>\n",
       "      <th>High</th>\n",
       "      <th>Low</th>\n",
       "      <th>Close</th>\n",
       "      <th>Volume</th>\n",
       "    </tr>\n",
       "    <tr>\n",
       "      <th>Date</th>\n",
       "      <th></th>\n",
       "      <th></th>\n",
       "      <th></th>\n",
       "      <th></th>\n",
       "      <th></th>\n",
       "    </tr>\n",
       "  </thead>\n",
       "  <tbody>\n",
       "    <tr>\n",
       "      <th>2017-07-07</th>\n",
       "      <td>142.90</td>\n",
       "      <td>144.75</td>\n",
       "      <td>142.90</td>\n",
       "      <td>144.18</td>\n",
       "      <td>19201712</td>\n",
       "    </tr>\n",
       "    <tr>\n",
       "      <th>2017-07-06</th>\n",
       "      <td>143.02</td>\n",
       "      <td>143.50</td>\n",
       "      <td>142.41</td>\n",
       "      <td>142.73</td>\n",
       "      <td>24128782</td>\n",
       "    </tr>\n",
       "    <tr>\n",
       "      <th>2017-07-05</th>\n",
       "      <td>143.69</td>\n",
       "      <td>144.79</td>\n",
       "      <td>142.72</td>\n",
       "      <td>144.09</td>\n",
       "      <td>21569557</td>\n",
       "    </tr>\n",
       "    <tr>\n",
       "      <th>2017-07-03</th>\n",
       "      <td>144.88</td>\n",
       "      <td>145.30</td>\n",
       "      <td>143.10</td>\n",
       "      <td>143.50</td>\n",
       "      <td>14277848</td>\n",
       "    </tr>\n",
       "    <tr>\n",
       "      <th>2017-06-30</th>\n",
       "      <td>144.45</td>\n",
       "      <td>144.96</td>\n",
       "      <td>143.78</td>\n",
       "      <td>144.02</td>\n",
       "      <td>23024107</td>\n",
       "    </tr>\n",
       "  </tbody>\n",
       "</table>\n",
       "</div>"
      ],
      "text/plain": [
       "              Open    High     Low   Close    Volume\n",
       "Date                                                \n",
       "2017-07-07  142.90  144.75  142.90  144.18  19201712\n",
       "2017-07-06  143.02  143.50  142.41  142.73  24128782\n",
       "2017-07-05  143.69  144.79  142.72  144.09  21569557\n",
       "2017-07-03  144.88  145.30  143.10  143.50  14277848\n",
       "2017-06-30  144.45  144.96  143.78  144.02  23024107"
      ]
     },
     "execution_count": 15,
     "metadata": {},
     "output_type": "execute_result"
    }
   ],
   "source": [
    "import pandas as pd\n",
    "df = pd.read_csv(\"aapl.csv\", parse_dates=[\"Date\"],index_col = \"Date\")\n",
    "df.head(5)"
   ]
  },
  {
   "cell_type": "code",
   "execution_count": 14,
   "id": "e0dc33f1",
   "metadata": {},
   "outputs": [
    {
     "data": {
      "text/plain": [
       "pandas._libs.tslibs.timestamps.Timestamp"
      ]
     },
     "execution_count": 14,
     "metadata": {},
     "output_type": "execute_result"
    }
   ],
   "source": [
    "type(df.Date[0])"
   ]
  },
  {
   "cell_type": "code",
   "execution_count": 16,
   "id": "36e500c8",
   "metadata": {},
   "outputs": [
    {
     "data": {
      "text/plain": [
       "DatetimeIndex(['2017-07-07', '2017-07-06', '2017-07-05', '2017-07-03',\n",
       "               '2017-06-30', '2017-06-29', '2017-06-28', '2017-06-27',\n",
       "               '2017-06-26', '2017-06-23',\n",
       "               ...\n",
       "               '2016-07-22', '2016-07-21', '2016-07-20', '2016-07-19',\n",
       "               '2016-07-18', '2016-07-15', '2016-07-14', '2016-07-13',\n",
       "               '2016-07-12', '2016-07-11'],\n",
       "              dtype='datetime64[ns]', name='Date', length=251, freq=None)"
      ]
     },
     "execution_count": 16,
     "metadata": {},
     "output_type": "execute_result"
    }
   ],
   "source": [
    "df.index"
   ]
  },
  {
   "cell_type": "code",
   "execution_count": 18,
   "id": "df8f7962",
   "metadata": {},
   "outputs": [
    {
     "name": "stderr",
     "output_type": "stream",
     "text": [
      "C:\\Users\\Patel Kaushal\\AppData\\Local\\Temp\\ipykernel_10292\\3632472639.py:1: FutureWarning: Indexing a DataFrame with a datetimelike index using a single string to slice the rows, like `frame[string]`, is deprecated and will be removed in a future version. Use `frame.loc[string]` instead.\n",
      "  df[\"2017-01\"]\n"
     ]
    },
    {
     "data": {
      "text/html": [
       "<div>\n",
       "<style scoped>\n",
       "    .dataframe tbody tr th:only-of-type {\n",
       "        vertical-align: middle;\n",
       "    }\n",
       "\n",
       "    .dataframe tbody tr th {\n",
       "        vertical-align: top;\n",
       "    }\n",
       "\n",
       "    .dataframe thead th {\n",
       "        text-align: right;\n",
       "    }\n",
       "</style>\n",
       "<table border=\"1\" class=\"dataframe\">\n",
       "  <thead>\n",
       "    <tr style=\"text-align: right;\">\n",
       "      <th></th>\n",
       "      <th>Open</th>\n",
       "      <th>High</th>\n",
       "      <th>Low</th>\n",
       "      <th>Close</th>\n",
       "      <th>Volume</th>\n",
       "    </tr>\n",
       "    <tr>\n",
       "      <th>Date</th>\n",
       "      <th></th>\n",
       "      <th></th>\n",
       "      <th></th>\n",
       "      <th></th>\n",
       "      <th></th>\n",
       "    </tr>\n",
       "  </thead>\n",
       "  <tbody>\n",
       "    <tr>\n",
       "      <th>2017-01-31</th>\n",
       "      <td>121.15</td>\n",
       "      <td>121.39</td>\n",
       "      <td>120.62</td>\n",
       "      <td>121.35</td>\n",
       "      <td>49200993</td>\n",
       "    </tr>\n",
       "    <tr>\n",
       "      <th>2017-01-30</th>\n",
       "      <td>120.93</td>\n",
       "      <td>121.63</td>\n",
       "      <td>120.66</td>\n",
       "      <td>121.63</td>\n",
       "      <td>30377503</td>\n",
       "    </tr>\n",
       "    <tr>\n",
       "      <th>2017-01-27</th>\n",
       "      <td>122.14</td>\n",
       "      <td>122.35</td>\n",
       "      <td>121.60</td>\n",
       "      <td>121.95</td>\n",
       "      <td>20562944</td>\n",
       "    </tr>\n",
       "    <tr>\n",
       "      <th>2017-01-26</th>\n",
       "      <td>121.67</td>\n",
       "      <td>122.44</td>\n",
       "      <td>121.60</td>\n",
       "      <td>121.94</td>\n",
       "      <td>26337576</td>\n",
       "    </tr>\n",
       "    <tr>\n",
       "      <th>2017-01-25</th>\n",
       "      <td>120.42</td>\n",
       "      <td>122.10</td>\n",
       "      <td>120.28</td>\n",
       "      <td>121.88</td>\n",
       "      <td>32586673</td>\n",
       "    </tr>\n",
       "    <tr>\n",
       "      <th>2017-01-24</th>\n",
       "      <td>119.55</td>\n",
       "      <td>120.10</td>\n",
       "      <td>119.50</td>\n",
       "      <td>119.97</td>\n",
       "      <td>23211038</td>\n",
       "    </tr>\n",
       "    <tr>\n",
       "      <th>2017-01-23</th>\n",
       "      <td>120.00</td>\n",
       "      <td>120.81</td>\n",
       "      <td>119.77</td>\n",
       "      <td>120.08</td>\n",
       "      <td>22050218</td>\n",
       "    </tr>\n",
       "    <tr>\n",
       "      <th>2017-01-20</th>\n",
       "      <td>120.45</td>\n",
       "      <td>120.45</td>\n",
       "      <td>119.73</td>\n",
       "      <td>120.00</td>\n",
       "      <td>32597892</td>\n",
       "    </tr>\n",
       "    <tr>\n",
       "      <th>2017-01-19</th>\n",
       "      <td>119.40</td>\n",
       "      <td>120.09</td>\n",
       "      <td>119.37</td>\n",
       "      <td>119.78</td>\n",
       "      <td>25597291</td>\n",
       "    </tr>\n",
       "    <tr>\n",
       "      <th>2017-01-18</th>\n",
       "      <td>120.00</td>\n",
       "      <td>120.50</td>\n",
       "      <td>119.71</td>\n",
       "      <td>119.99</td>\n",
       "      <td>23712961</td>\n",
       "    </tr>\n",
       "    <tr>\n",
       "      <th>2017-01-17</th>\n",
       "      <td>118.34</td>\n",
       "      <td>120.24</td>\n",
       "      <td>118.22</td>\n",
       "      <td>120.00</td>\n",
       "      <td>34439843</td>\n",
       "    </tr>\n",
       "    <tr>\n",
       "      <th>2017-01-13</th>\n",
       "      <td>119.11</td>\n",
       "      <td>119.62</td>\n",
       "      <td>118.81</td>\n",
       "      <td>119.04</td>\n",
       "      <td>26111948</td>\n",
       "    </tr>\n",
       "    <tr>\n",
       "      <th>2017-01-12</th>\n",
       "      <td>118.90</td>\n",
       "      <td>119.30</td>\n",
       "      <td>118.21</td>\n",
       "      <td>119.25</td>\n",
       "      <td>27086220</td>\n",
       "    </tr>\n",
       "    <tr>\n",
       "      <th>2017-01-11</th>\n",
       "      <td>118.74</td>\n",
       "      <td>119.93</td>\n",
       "      <td>118.60</td>\n",
       "      <td>119.75</td>\n",
       "      <td>27588593</td>\n",
       "    </tr>\n",
       "    <tr>\n",
       "      <th>2017-01-10</th>\n",
       "      <td>118.77</td>\n",
       "      <td>119.38</td>\n",
       "      <td>118.30</td>\n",
       "      <td>119.11</td>\n",
       "      <td>24462051</td>\n",
       "    </tr>\n",
       "    <tr>\n",
       "      <th>2017-01-09</th>\n",
       "      <td>117.95</td>\n",
       "      <td>119.43</td>\n",
       "      <td>117.94</td>\n",
       "      <td>118.99</td>\n",
       "      <td>33561948</td>\n",
       "    </tr>\n",
       "    <tr>\n",
       "      <th>2017-01-06</th>\n",
       "      <td>116.78</td>\n",
       "      <td>118.16</td>\n",
       "      <td>116.47</td>\n",
       "      <td>117.91</td>\n",
       "      <td>31751900</td>\n",
       "    </tr>\n",
       "    <tr>\n",
       "      <th>2017-01-05</th>\n",
       "      <td>115.92</td>\n",
       "      <td>116.86</td>\n",
       "      <td>115.81</td>\n",
       "      <td>116.61</td>\n",
       "      <td>22193587</td>\n",
       "    </tr>\n",
       "    <tr>\n",
       "      <th>2017-01-04</th>\n",
       "      <td>115.85</td>\n",
       "      <td>116.51</td>\n",
       "      <td>115.75</td>\n",
       "      <td>116.02</td>\n",
       "      <td>21118116</td>\n",
       "    </tr>\n",
       "    <tr>\n",
       "      <th>2017-01-03</th>\n",
       "      <td>115.80</td>\n",
       "      <td>116.33</td>\n",
       "      <td>114.76</td>\n",
       "      <td>116.15</td>\n",
       "      <td>28781865</td>\n",
       "    </tr>\n",
       "  </tbody>\n",
       "</table>\n",
       "</div>"
      ],
      "text/plain": [
       "              Open    High     Low   Close    Volume\n",
       "Date                                                \n",
       "2017-01-31  121.15  121.39  120.62  121.35  49200993\n",
       "2017-01-30  120.93  121.63  120.66  121.63  30377503\n",
       "2017-01-27  122.14  122.35  121.60  121.95  20562944\n",
       "2017-01-26  121.67  122.44  121.60  121.94  26337576\n",
       "2017-01-25  120.42  122.10  120.28  121.88  32586673\n",
       "2017-01-24  119.55  120.10  119.50  119.97  23211038\n",
       "2017-01-23  120.00  120.81  119.77  120.08  22050218\n",
       "2017-01-20  120.45  120.45  119.73  120.00  32597892\n",
       "2017-01-19  119.40  120.09  119.37  119.78  25597291\n",
       "2017-01-18  120.00  120.50  119.71  119.99  23712961\n",
       "2017-01-17  118.34  120.24  118.22  120.00  34439843\n",
       "2017-01-13  119.11  119.62  118.81  119.04  26111948\n",
       "2017-01-12  118.90  119.30  118.21  119.25  27086220\n",
       "2017-01-11  118.74  119.93  118.60  119.75  27588593\n",
       "2017-01-10  118.77  119.38  118.30  119.11  24462051\n",
       "2017-01-09  117.95  119.43  117.94  118.99  33561948\n",
       "2017-01-06  116.78  118.16  116.47  117.91  31751900\n",
       "2017-01-05  115.92  116.86  115.81  116.61  22193587\n",
       "2017-01-04  115.85  116.51  115.75  116.02  21118116\n",
       "2017-01-03  115.80  116.33  114.76  116.15  28781865"
      ]
     },
     "execution_count": 18,
     "metadata": {},
     "output_type": "execute_result"
    }
   ],
   "source": [
    "df[\"2017-01\"]"
   ]
  },
  {
   "cell_type": "code",
   "execution_count": 21,
   "id": "5321d7bf",
   "metadata": {},
   "outputs": [
    {
     "name": "stderr",
     "output_type": "stream",
     "text": [
      "C:\\Users\\Patel Kaushal\\AppData\\Local\\Temp\\ipykernel_10292\\3891989140.py:1: FutureWarning: Indexing a DataFrame with a datetimelike index using a single string to slice the rows, like `frame[string]`, is deprecated and will be removed in a future version. Use `frame.loc[string]` instead.\n",
      "  df[\"2017-01\"].Close.mean()\n"
     ]
    },
    {
     "data": {
      "text/plain": [
       "119.57000000000001"
      ]
     },
     "execution_count": 21,
     "metadata": {},
     "output_type": "execute_result"
    }
   ],
   "source": [
    "df[\"2017-01\"].Close.mean()"
   ]
  },
  {
   "cell_type": "code",
   "execution_count": 24,
   "id": "29509e6e",
   "metadata": {},
   "outputs": [
    {
     "data": {
      "text/html": [
       "<div>\n",
       "<style scoped>\n",
       "    .dataframe tbody tr th:only-of-type {\n",
       "        vertical-align: middle;\n",
       "    }\n",
       "\n",
       "    .dataframe tbody tr th {\n",
       "        vertical-align: top;\n",
       "    }\n",
       "\n",
       "    .dataframe thead th {\n",
       "        text-align: right;\n",
       "    }\n",
       "</style>\n",
       "<table border=\"1\" class=\"dataframe\">\n",
       "  <thead>\n",
       "    <tr style=\"text-align: right;\">\n",
       "      <th></th>\n",
       "      <th>Open</th>\n",
       "      <th>High</th>\n",
       "      <th>Low</th>\n",
       "      <th>Close</th>\n",
       "      <th>Volume</th>\n",
       "    </tr>\n",
       "    <tr>\n",
       "      <th>Date</th>\n",
       "      <th></th>\n",
       "      <th></th>\n",
       "      <th></th>\n",
       "      <th></th>\n",
       "      <th></th>\n",
       "    </tr>\n",
       "  </thead>\n",
       "  <tbody>\n",
       "    <tr>\n",
       "      <th>2017-07-07</th>\n",
       "      <td>142.90</td>\n",
       "      <td>144.75</td>\n",
       "      <td>142.90</td>\n",
       "      <td>144.18</td>\n",
       "      <td>19201712</td>\n",
       "    </tr>\n",
       "    <tr>\n",
       "      <th>2017-07-06</th>\n",
       "      <td>143.02</td>\n",
       "      <td>143.50</td>\n",
       "      <td>142.41</td>\n",
       "      <td>142.73</td>\n",
       "      <td>24128782</td>\n",
       "    </tr>\n",
       "    <tr>\n",
       "      <th>2017-07-05</th>\n",
       "      <td>143.69</td>\n",
       "      <td>144.79</td>\n",
       "      <td>142.72</td>\n",
       "      <td>144.09</td>\n",
       "      <td>21569557</td>\n",
       "    </tr>\n",
       "    <tr>\n",
       "      <th>2017-07-03</th>\n",
       "      <td>144.88</td>\n",
       "      <td>145.30</td>\n",
       "      <td>143.10</td>\n",
       "      <td>143.50</td>\n",
       "      <td>14277848</td>\n",
       "    </tr>\n",
       "    <tr>\n",
       "      <th>2017-06-30</th>\n",
       "      <td>144.45</td>\n",
       "      <td>144.96</td>\n",
       "      <td>143.78</td>\n",
       "      <td>144.02</td>\n",
       "      <td>23024107</td>\n",
       "    </tr>\n",
       "    <tr>\n",
       "      <th>...</th>\n",
       "      <td>...</td>\n",
       "      <td>...</td>\n",
       "      <td>...</td>\n",
       "      <td>...</td>\n",
       "      <td>...</td>\n",
       "    </tr>\n",
       "    <tr>\n",
       "      <th>2016-07-15</th>\n",
       "      <td>98.92</td>\n",
       "      <td>99.30</td>\n",
       "      <td>98.50</td>\n",
       "      <td>98.78</td>\n",
       "      <td>30136990</td>\n",
       "    </tr>\n",
       "    <tr>\n",
       "      <th>2016-07-14</th>\n",
       "      <td>97.39</td>\n",
       "      <td>98.99</td>\n",
       "      <td>97.32</td>\n",
       "      <td>98.79</td>\n",
       "      <td>38918997</td>\n",
       "    </tr>\n",
       "    <tr>\n",
       "      <th>2016-07-13</th>\n",
       "      <td>97.41</td>\n",
       "      <td>97.67</td>\n",
       "      <td>96.84</td>\n",
       "      <td>96.87</td>\n",
       "      <td>25892171</td>\n",
       "    </tr>\n",
       "    <tr>\n",
       "      <th>2016-07-12</th>\n",
       "      <td>97.17</td>\n",
       "      <td>97.70</td>\n",
       "      <td>97.12</td>\n",
       "      <td>97.42</td>\n",
       "      <td>24167463</td>\n",
       "    </tr>\n",
       "    <tr>\n",
       "      <th>2016-07-11</th>\n",
       "      <td>96.75</td>\n",
       "      <td>97.65</td>\n",
       "      <td>96.73</td>\n",
       "      <td>96.98</td>\n",
       "      <td>23794945</td>\n",
       "    </tr>\n",
       "  </tbody>\n",
       "</table>\n",
       "<p>251 rows × 5 columns</p>\n",
       "</div>"
      ],
      "text/plain": [
       "              Open    High     Low   Close    Volume\n",
       "Date                                                \n",
       "2017-07-07  142.90  144.75  142.90  144.18  19201712\n",
       "2017-07-06  143.02  143.50  142.41  142.73  24128782\n",
       "2017-07-05  143.69  144.79  142.72  144.09  21569557\n",
       "2017-07-03  144.88  145.30  143.10  143.50  14277848\n",
       "2017-06-30  144.45  144.96  143.78  144.02  23024107\n",
       "...            ...     ...     ...     ...       ...\n",
       "2016-07-15   98.92   99.30   98.50   98.78  30136990\n",
       "2016-07-14   97.39   98.99   97.32   98.79  38918997\n",
       "2016-07-13   97.41   97.67   96.84   96.87  25892171\n",
       "2016-07-12   97.17   97.70   97.12   97.42  24167463\n",
       "2016-07-11   96.75   97.65   96.73   96.98  23794945\n",
       "\n",
       "[251 rows x 5 columns]"
      ]
     },
     "execution_count": 24,
     "metadata": {},
     "output_type": "execute_result"
    }
   ],
   "source": [
    "df"
   ]
  },
  {
   "cell_type": "code",
   "execution_count": 28,
   "id": "2261e66c",
   "metadata": {},
   "outputs": [
    {
     "name": "stderr",
     "output_type": "stream",
     "text": [
      "C:\\Users\\Patel Kaushal\\AppData\\Local\\Temp\\ipykernel_10292\\4212893285.py:1: FutureWarning: Value based partial slicing on non-monotonic DatetimeIndexes with non-existing keys is deprecated and will raise a KeyError in a future Version.\n",
      "  df['2017-01-08':'2017-01-03']\n"
     ]
    },
    {
     "data": {
      "text/html": [
       "<div>\n",
       "<style scoped>\n",
       "    .dataframe tbody tr th:only-of-type {\n",
       "        vertical-align: middle;\n",
       "    }\n",
       "\n",
       "    .dataframe tbody tr th {\n",
       "        vertical-align: top;\n",
       "    }\n",
       "\n",
       "    .dataframe thead th {\n",
       "        text-align: right;\n",
       "    }\n",
       "</style>\n",
       "<table border=\"1\" class=\"dataframe\">\n",
       "  <thead>\n",
       "    <tr style=\"text-align: right;\">\n",
       "      <th></th>\n",
       "      <th>Open</th>\n",
       "      <th>High</th>\n",
       "      <th>Low</th>\n",
       "      <th>Close</th>\n",
       "      <th>Volume</th>\n",
       "    </tr>\n",
       "    <tr>\n",
       "      <th>Date</th>\n",
       "      <th></th>\n",
       "      <th></th>\n",
       "      <th></th>\n",
       "      <th></th>\n",
       "      <th></th>\n",
       "    </tr>\n",
       "  </thead>\n",
       "  <tbody>\n",
       "  </tbody>\n",
       "</table>\n",
       "</div>"
      ],
      "text/plain": [
       "Empty DataFrame\n",
       "Columns: [Open, High, Low, Close, Volume]\n",
       "Index: []"
      ]
     },
     "execution_count": 28,
     "metadata": {},
     "output_type": "execute_result"
    }
   ],
   "source": [
    "df['2017-01-08':'2017-01-03']\n"
   ]
  },
  {
   "cell_type": "code",
   "execution_count": 27,
   "id": "a55dc62e",
   "metadata": {},
   "outputs": [
    {
     "data": {
      "text/plain": [
       "Date\n",
       "2016-07-31     99.473333\n",
       "2016-08-31    107.665217\n",
       "2016-09-30    110.857143\n",
       "2016-10-31    115.707143\n",
       "2016-11-30    110.154286\n",
       "2016-12-31    114.335714\n",
       "2017-01-31    119.570000\n",
       "2017-02-28    133.713684\n",
       "2017-03-31    140.617826\n",
       "2017-04-30    142.886842\n",
       "2017-05-31    152.227727\n",
       "2017-06-30    147.831364\n",
       "2017-07-31    143.625000\n",
       "Freq: M, Name: Close, dtype: float64"
      ]
     },
     "execution_count": 27,
     "metadata": {},
     "output_type": "execute_result"
    }
   ],
   "source": [
    "df.Close.resample('M').mean()"
   ]
  },
  {
   "cell_type": "code",
   "execution_count": 30,
   "id": "724ba53d",
   "metadata": {},
   "outputs": [
    {
     "data": {
      "text/plain": [
       "<Axes: xlabel='Date'>"
      ]
     },
     "execution_count": 30,
     "metadata": {},
     "output_type": "execute_result"
    },
    {
     "data": {
      "image/png": "[encoded data removed]",
      "text/plain": [
       "<Figure size 640x480 with 1 Axes>"
      ]
     },
     "metadata": {},
     "output_type": "display_data"
    }
   ],
   "source": [
    "%matplotlib inline\n",
    "df.Close.resample('M').mean().plot()"
   ]
  },
  {
   "cell_type": "code",
   "execution_count": 31,
   "id": "d70cd0f4",
   "metadata": {},
   "outputs": [
    {
     "data": {
      "text/plain": [
       "<Axes: xlabel='Date'>"
      ]
     },
     "execution_count": 31,
     "metadata": {},
     "output_type": "execute_result"
    },
    {
     "data": {
      "image/png": "[encoded data removed]",
      "text/plain": [
       "<Figure size 640x480 with 1 Axes>"
      ]
     },
     "metadata": {},
     "output_type": "display_data"
    }
   ],
   "source": [
    "%matplotlib inline\n",
    "df.Close.resample('Q').mean().plot()"
   ]
  },
  {
   "cell_type": "code",
   "execution_count": 32,
   "id": "918393d8",
   "metadata": {},
   "outputs": [
    {
     "data": {
      "text/plain": [
       "<Axes: xlabel='Date'>"
      ]
     },
     "execution_count": 32,
     "metadata": {},
     "output_type": "execute_result"
    },
    {
     "data": {
      "image/png": "[encoded data removed]",
      "text/plain": [
       "<Figure size 640x480 with 1 Axes>"
      ]
     },
     "metadata": {},
     "output_type": "display_data"
    }
   ],
   "source": [
    "%matplotlib inline\n",
    "df.Close.resample('M').mean().plot(kind='bar')"
   ]
  },
  {
   "cell_type": "code",
   "execution_count": 34,
   "id": "9fc32e44",
   "metadata": {},
   "outputs": [
    {
     "data": {
      "text/plain": [
       "<Axes: xlabel='Date'>"
      ]
     },
     "execution_count": 34,
     "metadata": {},
     "output_type": "execute_result"
    },
    {
     "data": {
      "image/png": "[encoded data removed]",
      "text/plain": [
       "<Figure size 640x480 with 1 Axes>"
      ]
     },
     "metadata": {},
     "output_type": "display_data"
    }
   ],
   "source": [
    "df.Close.plot()"
   ]
  },
  {
   "cell_type": "code",
   "execution_count": null,
   "id": "88628e51",
   "metadata": {},
   "outputs": [],
   "source": []
  }
 ],
 "metadata": {
  "kernelspec": {
   "display_name": "Python 3 (ipykernel)",
   "language": "python",
   "name": "python3"
  },
  "language_info": {
   "codemirror_mode": {
    "name": "ipython",
    "version": 3
   },
   "file_extension": ".py",
   "mimetype": "text/x-python",
   "name": "python",
   "nbconvert_exporter": "python",
   "pygments_lexer": "ipython3",
   "version": "3.11.4"
  }
 },
 "nbformat": 4,
 "nbformat_minor": 5
}
