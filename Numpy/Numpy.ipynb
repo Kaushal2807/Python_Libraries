{
 "cells": [
  {
   "cell_type": "markdown",
   "id": "16873ad2",
   "metadata": {},
   "source": [
    "# Numpy Array vs Python Lists"
   ]
  },
  {
   "cell_type": "code",
   "execution_count": 1,
   "id": "1d007164",
   "metadata": {},
   "outputs": [
    {
     "name": "stdout",
     "output_type": "stream",
     "text": [
      "[1 2 3 4]\n",
      "<class 'numpy.ndarray'>\n"
     ]
    }
   ],
   "source": [
    "import numpy as np\n",
    "\n",
    "x = np.array([1,2,3,4])\n",
    "print(x)\n",
    "print(type(x))"
   ]
  },
  {
   "cell_type": "code",
   "execution_count": 2,
   "id": "673c3160",
   "metadata": {},
   "outputs": [
    {
     "name": "stdout",
     "output_type": "stream",
     "text": [
      "[1, 2, 3, 4]\n",
      "<class 'list'>\n"
     ]
    }
   ],
   "source": [
    "y = [1,2,3,4]\n",
    "print(y)\n",
    "print(type(y))"
   ]
  },
  {
   "cell_type": "code",
   "execution_count": 3,
   "id": "38983617",
   "metadata": {},
   "outputs": [
    {
     "name": "stdout",
     "output_type": "stream",
     "text": [
      "2.61 µs ± 79.4 ns per loop (mean ± std. dev. of 7 runs, 100,000 loops each)\n"
     ]
    }
   ],
   "source": [
    "%timeit [j**4 for j in range(1,9)]"
   ]
  },
  {
   "cell_type": "code",
   "execution_count": 4,
   "id": "4869603e",
   "metadata": {},
   "outputs": [
    {
     "name": "stdout",
     "output_type": "stream",
     "text": [
      "6.38 µs ± 125 ns per loop (mean ± std. dev. of 7 runs, 100,000 loops each)\n"
     ]
    }
   ],
   "source": [
    "import numpy as np\n",
    "%timeit np.arange(1,9)**4"
   ]
  },
  {
   "cell_type": "markdown",
   "id": "1d6cc04f",
   "metadata": {},
   "source": [
    "# Numpy Array"
   ]
  },
  {
   "cell_type": "code",
   "execution_count": 5,
   "id": "f131fd58",
   "metadata": {},
   "outputs": [
    {
     "name": "stdout",
     "output_type": "stream",
     "text": [
      "[1 2 3 4 5]\n",
      "<class 'numpy.ndarray'>\n",
      "1\n"
     ]
    }
   ],
   "source": [
    "import numpy as np\n",
    "\n",
    "x = [1,2,3,4,5]\n",
    "\n",
    "y = np.array(x)\n",
    "\n",
    "print(y)\n",
    "print(type(y))\n",
    "print(y.ndim)"
   ]
  },
  {
   "cell_type": "code",
   "execution_count": 7,
   "id": "59e489a9",
   "metadata": {},
   "outputs": [
    {
     "name": "stdout",
     "output_type": "stream",
     "text": [
      "Enter Value:-5\n",
      "Enter Value:-4\n",
      "Enter Value:-3\n",
      "Enter Value:-2\n",
      "[5 4 3 2]\n"
     ]
    }
   ],
   "source": [
    "lis = []\n",
    "\n",
    "for i in range(1,5):\n",
    "    int_1 = int(input(\"Enter Value:-\"))\n",
    "    lis.append(int_1)\n",
    "    \n",
    "print(np.array(lis))\n"
   ]
  },
  {
   "cell_type": "code",
   "execution_count": 8,
   "id": "5c08925e",
   "metadata": {},
   "outputs": [
    {
     "name": "stdout",
     "output_type": "stream",
     "text": [
      "[[ 1  2 23  3]\n",
      " [ 1  2 34  4]]\n",
      "2\n"
     ]
    }
   ],
   "source": [
    "ar2 = np.array([[1,2,23,3],[1,2,34,4]])\n",
    "print(ar2)\n",
    "print(ar2.ndim)"
   ]
  },
  {
   "cell_type": "code",
   "execution_count": 9,
   "id": "8a2730c3",
   "metadata": {},
   "outputs": [
    {
     "name": "stdout",
     "output_type": "stream",
     "text": [
      "[[[1 2 3 4]\n",
      "  [1 2 3 4]\n",
      "  [1 2 3 4]]]\n",
      "3\n"
     ]
    }
   ],
   "source": [
    "ar3 = np.array([[[1,2,3,4],[1,2,3,4],[1,2,3,4]]])\n",
    "print(ar3)\n",
    "print(ar3.ndim)"
   ]
  },
  {
   "cell_type": "code",
   "execution_count": 10,
   "id": "d79797cf",
   "metadata": {},
   "outputs": [
    {
     "name": "stdout",
     "output_type": "stream",
     "text": [
      "[[[[[[[[[[1 2 3 4]]]]]]]]]]\n",
      "10\n"
     ]
    }
   ],
   "source": [
    "arn = np.array([1,2,3,4],ndmin = 10)\n",
    "print(arn)\n",
    "print(arn.ndim)"
   ]
  },
  {
   "cell_type": "markdown",
   "id": "7e64d627",
   "metadata": {},
   "source": [
    "# Zeros"
   ]
  },
  {
   "cell_type": "code",
   "execution_count": 7,
   "id": "94ba9dfe",
   "metadata": {},
   "outputs": [
    {
     "name": "stdout",
     "output_type": "stream",
     "text": [
      "[0. 0. 0. 0.]\n",
      "\n",
      "[[0. 0. 0. 0.]\n",
      " [0. 0. 0. 0.]\n",
      " [0. 0. 0. 0.]]\n"
     ]
    }
   ],
   "source": [
    "import numpy as np\n",
    "\n",
    "ar_zero = np.zeros(4)\n",
    "ar_zero1 = np.zeros((3,4))\n",
    "\n",
    "print(ar_zero)\n",
    "print()\n",
    "print(ar_zero1)"
   ]
  },
  {
   "cell_type": "markdown",
   "id": "ec410fbe",
   "metadata": {},
   "source": [
    "# Ones"
   ]
  },
  {
   "cell_type": "code",
   "execution_count": 15,
   "id": "f84df16b",
   "metadata": {},
   "outputs": [
    {
     "name": "stdout",
     "output_type": "stream",
     "text": [
      "[1. 1. 1. 1.]\n"
     ]
    }
   ],
   "source": [
    "ar_one = np.ones(4)\n",
    "\n",
    "print(ar_one)"
   ]
  },
  {
   "cell_type": "markdown",
   "id": "a9d4503f",
   "metadata": {},
   "source": [
    "# Empty"
   ]
  },
  {
   "cell_type": "code",
   "execution_count": 16,
   "id": "a84f57da",
   "metadata": {},
   "outputs": [
    {
     "name": "stdout",
     "output_type": "stream",
     "text": [
      "[1. 1. 1. 1.]\n"
     ]
    }
   ],
   "source": [
    "ar_em = np.empty(4)\n",
    "\n",
    "print(ar_em)   "
   ]
  },
  {
   "cell_type": "markdown",
   "id": "7dfebfcd",
   "metadata": {},
   "source": [
    "# Range"
   ]
  },
  {
   "cell_type": "code",
   "execution_count": 17,
   "id": "ff687cc2",
   "metadata": {},
   "outputs": [
    {
     "name": "stdout",
     "output_type": "stream",
     "text": [
      "[0 1 2 3]\n"
     ]
    }
   ],
   "source": [
    "ar_rn = np.arange(4)\n",
    "\n",
    "print(ar_rn)"
   ]
  },
  {
   "cell_type": "markdown",
   "id": "63ad43e2",
   "metadata": {},
   "source": [
    "# Diagonal"
   ]
  },
  {
   "cell_type": "code",
   "execution_count": 25,
   "id": "8f542855",
   "metadata": {},
   "outputs": [
    {
     "name": "stdout",
     "output_type": "stream",
     "text": [
      "[[1. 0. 0.]\n",
      " [0. 1. 0.]\n",
      " [0. 0. 1.]]\n"
     ]
    }
   ],
   "source": [
    "ar_dia = np.eye(3,3)\n",
    "\n",
    "print(ar_dia)"
   ]
  },
  {
   "cell_type": "markdown",
   "id": "eb2da67a",
   "metadata": {},
   "source": [
    "# linspace"
   ]
  },
  {
   "cell_type": "code",
   "execution_count": 32,
   "id": "08cb35b6",
   "metadata": {},
   "outputs": [
    {
     "name": "stdout",
     "output_type": "stream",
     "text": [
      "[ 0.  5. 10. 15. 20.]\n"
     ]
    }
   ],
   "source": [
    "ar_lin = np.linspace(0,20,num=5)\n",
    "print(ar_lin)"
   ]
  },
  {
   "cell_type": "markdown",
   "id": "eab6f2a8",
   "metadata": {},
   "source": [
    "# Random"
   ]
  },
  {
   "cell_type": "markdown",
   "id": "257b50bc",
   "metadata": {},
   "source": [
    "## rand( )"
   ]
  },
  {
   "cell_type": "code",
   "execution_count": 39,
   "id": "30c87f65",
   "metadata": {},
   "outputs": [
    {
     "name": "stdout",
     "output_type": "stream",
     "text": [
      "[0.19810553 0.84017131 0.6905678  0.07717724]\n"
     ]
    }
   ],
   "source": [
    "import numpy as np\n",
    "\n",
    "var = np.random.rand(4)\n",
    "print(var)"
   ]
  },
  {
   "cell_type": "code",
   "execution_count": 40,
   "id": "97cb5b8e",
   "metadata": {},
   "outputs": [
    {
     "name": "stdout",
     "output_type": "stream",
     "text": [
      "[[0.78754943 0.98601459 0.25100092 0.31378338 0.29055194]\n",
      " [0.65989232 0.93077373 0.00846629 0.22744706 0.68720544]]\n"
     ]
    }
   ],
   "source": [
    "var1 = np.random.rand(2,5)\n",
    "\n",
    "print(var1)"
   ]
  },
  {
   "cell_type": "markdown",
   "id": "42f191cd",
   "metadata": {},
   "source": [
    "## randn( )\n"
   ]
  },
  {
   "cell_type": "code",
   "execution_count": 41,
   "id": "91c9b9ab",
   "metadata": {},
   "outputs": [
    {
     "name": "stdout",
     "output_type": "stream",
     "text": [
      "[-0.68223591  1.14793962  0.41923643 -0.99622903 -0.60489869]\n"
     ]
    }
   ],
   "source": [
    "var2 = np.random.randn(5)\n",
    "\n",
    "print(var2)"
   ]
  },
  {
   "cell_type": "markdown",
   "id": "2fa67a28",
   "metadata": {},
   "source": [
    "## ranf( )"
   ]
  },
  {
   "cell_type": "code",
   "execution_count": 4,
   "id": "497e8f0c",
   "metadata": {},
   "outputs": [
    {
     "name": "stdout",
     "output_type": "stream",
     "text": [
      "[0.83054748 0.94711522 0.36128788 0.49998535 0.46487601]\n"
     ]
    }
   ],
   "source": [
    "var3 =np.random.ranf(5)\n",
    "\n",
    "print(var3)"
   ]
  },
  {
   "cell_type": "markdown",
   "id": "43589992",
   "metadata": {},
   "source": [
    "## randint( )"
   ]
  },
  {
   "cell_type": "code",
   "execution_count": 3,
   "id": "6c013013",
   "metadata": {},
   "outputs": [
    {
     "name": "stdout",
     "output_type": "stream",
     "text": [
      "[16 18  9 12  5]\n"
     ]
    }
   ],
   "source": [
    "# var4 = np.random.randint(min,max,total_value)\n",
    "\n",
    "var4 = np.random.randint(5,20,5)\n",
    "\n",
    "print(var4)"
   ]
  },
  {
   "cell_type": "markdown",
   "id": "dcb63419",
   "metadata": {},
   "source": [
    "# Datatypes"
   ]
  },
  {
   "cell_type": "code",
   "execution_count": 5,
   "id": "5fd69b79",
   "metadata": {},
   "outputs": [
    {
     "name": "stdout",
     "output_type": "stream",
     "text": [
      "Data Type: int32\n"
     ]
    }
   ],
   "source": [
    "import numpy as np \n",
    "\n",
    "var = np.array([1,2,3,4])\n",
    "\n",
    "print(\"Data Type:\",var.dtype)"
   ]
  },
  {
   "cell_type": "code",
   "execution_count": 6,
   "id": "c183500d",
   "metadata": {},
   "outputs": [
    {
     "name": "stdout",
     "output_type": "stream",
     "text": [
      "Data Type: float64\n"
     ]
    }
   ],
   "source": [
    "var = np.array([1.0,2.3,3.5,4.0])\n",
    "\n",
    "print(\"Data Type:\",var.dtype)"
   ]
  },
  {
   "cell_type": "code",
   "execution_count": 7,
   "id": "e22bcc48",
   "metadata": {},
   "outputs": [
    {
     "name": "stdout",
     "output_type": "stream",
     "text": [
      "Data Type: <U1\n"
     ]
    }
   ],
   "source": [
    "var = np.array([\"A\",\"s\",\"d\"])\n",
    "\n",
    "print(\"Data Type:\",var.dtype)"
   ]
  },
  {
   "cell_type": "code",
   "execution_count": 8,
   "id": "ee00fd0a",
   "metadata": {},
   "outputs": [
    {
     "name": "stdout",
     "output_type": "stream",
     "text": [
      "Data Type: <U11\n"
     ]
    }
   ],
   "source": [
    " var = np.array([\"A\",\"s\",\"d\",1,3,4,5,5])\n",
    "\n",
    "print(\"Data Type:\",var.dtype)"
   ]
  },
  {
   "cell_type": "code",
   "execution_count": 9,
   "id": "1b79b6be",
   "metadata": {},
   "outputs": [
    {
     "name": "stdout",
     "output_type": "stream",
     "text": [
      "Data Type: int32\n"
     ]
    }
   ],
   "source": [
    "x =np.array([1,2,3,4,5])\n",
    "\n",
    "print(\"Data Type:\",x.dtype)"
   ]
  },
  {
   "cell_type": "code",
   "execution_count": 11,
   "id": "3de4c125",
   "metadata": {},
   "outputs": [
    {
     "name": "stdout",
     "output_type": "stream",
     "text": [
      "Data Type: int8\n",
      "[1 2 3 4 5]\n"
     ]
    }
   ],
   "source": [
    "x =np.array([1,2,3,4,5],dtype = np.int8)\n",
    "\n",
    "print(\"Data Type:\",x.dtype)\n",
    "print(x)"
   ]
  },
  {
   "cell_type": "code",
   "execution_count": 20,
   "id": "f911f3fd",
   "metadata": {},
   "outputs": [
    {
     "name": "stdout",
     "output_type": "stream",
     "text": [
      "Data Type: float32\n",
      "[1. 2. 3. 4. 5.]\n"
     ]
    }
   ],
   "source": [
    "x =np.array([1,2,3,4,5],dtype = \"f\")\n",
    "\n",
    "print(\"Data Type:\",x.dtype)\n",
    "print(x)"
   ]
  },
  {
   "cell_type": "code",
   "execution_count": 22,
   "id": "9c8553e6",
   "metadata": {},
   "outputs": [
    {
     "name": "stdout",
     "output_type": "stream",
     "text": [
      "Data Type: int32\n",
      "Data Type: float32\n",
      "[1 2 3 4 5]\n",
      "[1. 2. 3. 4. 5.]\n"
     ]
    }
   ],
   "source": [
    "x2 = np.array([1,2,3,4,5])\n",
    "\n",
    "new = np.float32(x2)\n",
    "\n",
    "print(\"Data Type:\",x2.dtype)\n",
    "print(\"Data Type:\",new.dtype)\n",
    "\n",
    "print(x2)\n",
    "print(new)"
   ]
  },
  {
   "cell_type": "code",
   "execution_count": 23,
   "id": "ec2f173c",
   "metadata": {},
   "outputs": [
    {
     "name": "stdout",
     "output_type": "stream",
     "text": [
      "Data Type: int32\n",
      "Data Type: float32\n",
      "Data Type: int32\n",
      "[1 2 3 4 5]\n",
      "[1. 2. 3. 4. 5.]\n",
      "[1 2 3 4 5]\n"
     ]
    }
   ],
   "source": [
    "x2 = np.array([1,2,3,4,5])\n",
    "\n",
    "new = np.float32(x2)\n",
    "\n",
    "new_1 = np.int_(new)\n",
    "\n",
    "print(\"Data Type:\",x2.dtype)\n",
    "print(\"Data Type:\",new.dtype)\n",
    "print(\"Data Type:\",new_1.dtype)\n",
    "\n",
    "\n",
    "print(x2)\n",
    "print(new)\n",
    "print(new_1)"
   ]
  },
  {
   "cell_type": "code",
   "execution_count": 24,
   "id": "87bd64b1",
   "metadata": {},
   "outputs": [
    {
     "name": "stdout",
     "output_type": "stream",
     "text": [
      "int32\n",
      "float64\n",
      "[1 2 3 4 5]\n",
      "[1. 2. 3. 4. 5.]\n"
     ]
    }
   ],
   "source": [
    "x3 = np.array([1,2,3,4,5])\n",
    "\n",
    "new_1 = x3.astype(float)\n",
    "\n",
    "print(x3.dtype)\n",
    "print(new_1.dtype)\n",
    "print(x3)\n",
    "print(new_1)"
   ]
  },
  {
   "cell_type": "markdown",
   "id": "ec483750",
   "metadata": {},
   "source": [
    "# Arithmetic Operation"
   ]
  },
  {
   "cell_type": "code",
   "execution_count": 25,
   "id": "8ccca3e5",
   "metadata": {},
   "outputs": [
    {
     "name": "stdout",
     "output_type": "stream",
     "text": [
      "[4 5 6 7]\n"
     ]
    }
   ],
   "source": [
    "import numpy as np\n",
    "\n",
    "var = np.array([1,2,3,4])\n",
    "\n",
    "varadd = var + 3 \n",
    "\n",
    "print(varadd)"
   ]
  },
  {
   "cell_type": "code",
   "execution_count": 26,
   "id": "516b0ca6",
   "metadata": {},
   "outputs": [
    {
     "name": "stdout",
     "output_type": "stream",
     "text": [
      "[2 4 6 8]\n"
     ]
    }
   ],
   "source": [
    "var1 = np.array([1,2,3,4])\n",
    "var2 = np.array([1,2,3,4])\n",
    "\n",
    "varadd = var1 + var2 \n",
    "\n",
    "print(varadd)"
   ]
  },
  {
   "cell_type": "code",
   "execution_count": 31,
   "id": "316291f4",
   "metadata": {},
   "outputs": [
    {
     "name": "stdout",
     "output_type": "stream",
     "text": [
      "[2 4 6 8]\n"
     ]
    }
   ],
   "source": [
    "var1 = np.array([1,2,3,4])\n",
    "var2 = np.array([1,2,3,4])\n",
    "\n",
    "varadd = np.add(var1,var2)\n",
    "\n",
    "print(varadd)"
   ]
  },
  {
   "cell_type": "code",
   "execution_count": 27,
   "id": "1ec5afa3",
   "metadata": {},
   "outputs": [
    {
     "name": "stdout",
     "output_type": "stream",
     "text": [
      "[-2 -1  0  1]\n"
     ]
    }
   ],
   "source": [
    "import numpy as np\n",
    "\n",
    "var = np.array([1,2,3,4])\n",
    "\n",
    "varadd = var - 3 \n",
    "\n",
    "print(varadd)"
   ]
  },
  {
   "cell_type": "code",
   "execution_count": 33,
   "id": "8cb95543",
   "metadata": {},
   "outputs": [
    {
     "name": "stdout",
     "output_type": "stream",
     "text": [
      "[-2 -1  0  1]\n"
     ]
    }
   ],
   "source": [
    "var1 = np.array([1,2,3,4])\n",
    "\n",
    "varadd = np.subtract(var1,3)\n",
    "\n",
    "print(varadd)"
   ]
  },
  {
   "cell_type": "code",
   "execution_count": 28,
   "id": "8e373762",
   "metadata": {},
   "outputs": [
    {
     "name": "stdout",
     "output_type": "stream",
     "text": [
      "[ 3  6  9 12]\n"
     ]
    }
   ],
   "source": [
    "import numpy as np\n",
    "\n",
    "var = np.array([1,2,3,4])\n",
    "\n",
    "varadd = var * 3 \n",
    "\n",
    "print(varadd)"
   ]
  },
  {
   "cell_type": "code",
   "execution_count": 29,
   "id": "9769bb32",
   "metadata": {},
   "outputs": [
    {
     "name": "stdout",
     "output_type": "stream",
     "text": [
      "[0.33333333 0.66666667 1.         1.33333333]\n"
     ]
    }
   ],
   "source": [
    "import numpy as np\n",
    "\n",
    "var = np.array([1,2,3,4])\n",
    "\n",
    "varadd = var / 3 \n",
    "\n",
    "print(varadd)"
   ]
  },
  {
   "cell_type": "code",
   "execution_count": 30,
   "id": "35245862",
   "metadata": {},
   "outputs": [
    {
     "name": "stdout",
     "output_type": "stream",
     "text": [
      "[1 2 0 1]\n"
     ]
    }
   ],
   "source": [
    "import numpy as np\n",
    "\n",
    "var = np.array([1,2,3,4])\n",
    "\n",
    "varadd = var % 3 \n",
    "\n",
    "print(varadd)"
   ]
  },
  {
   "cell_type": "code",
   "execution_count": 43,
   "id": "24fe74eb",
   "metadata": {},
   "outputs": [
    {
     "name": "stdout",
     "output_type": "stream",
     "text": [
      "[1 2 0 1]\n"
     ]
    }
   ],
   "source": [
    "import numpy as np\n",
    "\n",
    "var = np.array([1,2,3,4])\n",
    "\n",
    "varadd = np.mod(var,3) \n",
    "\n",
    "print(varadd)"
   ]
  },
  {
   "cell_type": "markdown",
   "id": "46d04df6",
   "metadata": {},
   "source": [
    "## 2D array"
   ]
  },
  {
   "cell_type": "code",
   "execution_count": 37,
   "id": "414e7329",
   "metadata": {},
   "outputs": [
    {
     "name": "stdout",
     "output_type": "stream",
     "text": [
      "[[1 2 3 4]\n",
      " [1 2 3 4]]\n",
      "\n",
      "[[0 2 3 4]\n",
      " [1 2 3 4]]\n",
      "\n",
      "[[1 4 6 8]\n",
      " [2 4 6 8]]\n"
     ]
    }
   ],
   "source": [
    "var21 = np.array([[1,2,3,4],[1,2,3,4]])\n",
    "var22 = np.array([[0,2,3,4],[1,2,3,4]])\n",
    "\n",
    "print(var21)\n",
    "print()\n",
    "print(var22)\n",
    "print()\n",
    "varadd = np.add(var21,var22)\n",
    "\n",
    "print(varadd)"
   ]
  },
  {
   "cell_type": "code",
   "execution_count": 44,
   "id": "d2138b5d",
   "metadata": {},
   "outputs": [
    {
     "name": "stdout",
     "output_type": "stream",
     "text": [
      "[[1 2 3 4]\n",
      " [1 2 3 4]]\n",
      "\n",
      "[[0 2 3 4]\n",
      " [1 2 3 4]]\n",
      "\n",
      "[[ 0  4  9 16]\n",
      " [ 1  4  9 16]]\n"
     ]
    }
   ],
   "source": [
    "var21 = np.array([[1,2,3,4],[1,2,3,4]])\n",
    "var22 = np.array([[0,2,3,4],[1,2,3,4]])\n",
    "\n",
    "print(var21)\n",
    "print()\n",
    "print(var22)\n",
    "print()\n",
    "varadd = np.multiply(var21,var22)\n",
    "\n",
    "print(varadd)"
   ]
  },
  {
   "cell_type": "markdown",
   "id": "ad417494",
   "metadata": {},
   "source": [
    "##  Arithmetic Function"
   ]
  },
  {
   "cell_type": "code",
   "execution_count": 46,
   "id": "321ca1cb",
   "metadata": {},
   "outputs": [
    {
     "name": "stdout",
     "output_type": "stream",
     "text": [
      "Minimum Value :- 1\n"
     ]
    }
   ],
   "source": [
    "import numpy as np \n",
    "\n",
    "var = np.array([1,2,3,4,5])\n",
    "\n",
    "print(\"Minimum Value :-\",np.min(var))"
   ]
  },
  {
   "cell_type": "code",
   "execution_count": 48,
   "id": "ddf138b7",
   "metadata": {},
   "outputs": [
    {
     "name": "stdout",
     "output_type": "stream",
     "text": [
      "Maximum Value :- 5\n"
     ]
    }
   ],
   "source": [
    "import numpy as np \n",
    "\n",
    "var = np.array([1,2,3,4,5])\n",
    "\n",
    "print(\"Maximum Value :-\",np.max(var))"
   ]
  },
  {
   "cell_type": "code",
   "execution_count": 49,
   "id": "203c4b9d",
   "metadata": {},
   "outputs": [
    {
     "name": "stdout",
     "output_type": "stream",
     "text": [
      "Position Maximum Value :- 4\n"
     ]
    }
   ],
   "source": [
    "import numpy as np \n",
    "\n",
    "var = np.array([1,2,3,4,5])\n",
    "\n",
    "print(\"Position of Maximum Value :-\",np.argmax(var))"
   ]
  },
  {
   "cell_type": "code",
   "execution_count": 52,
   "id": "1c8bd24e",
   "metadata": {},
   "outputs": [
    {
     "name": "stdout",
     "output_type": "stream",
     "text": [
      "Position of Minimum Value :- 0\n"
     ]
    }
   ],
   "source": [
    "import numpy as np \n",
    "\n",
    "var = np.array([1,2,3,4,5])\n",
    "\n",
    "print(\"Position of Minimum Value :-\",np.argmin(var))"
   ]
  },
  {
   "cell_type": "code",
   "execution_count": 53,
   "id": "2e777ffa",
   "metadata": {},
   "outputs": [
    {
     "name": "stdout",
     "output_type": "stream",
     "text": [
      "[1 3]\n"
     ]
    }
   ],
   "source": [
    "var1 = np.array([[2,1,3,4],[9,5,6,3]]) # axis = 1 ==> rows\n",
    "\n",
    "print(np.min(var1,axis = 1))"
   ]
  },
  {
   "cell_type": "code",
   "execution_count": 54,
   "id": "f394d3d2",
   "metadata": {},
   "outputs": [
    {
     "name": "stdout",
     "output_type": "stream",
     "text": [
      "[2 1 3 3]\n"
     ]
    }
   ],
   "source": [
    "var1 = np.array([[2,1,3,4],[9,5,6,3]])  # axis = 0 ==> columns\n",
    "\n",
    "print(np.min(var1,axis = 0))"
   ]
  },
  {
   "cell_type": "code",
   "execution_count": 58,
   "id": "4b52fb6c",
   "metadata": {},
   "outputs": [
    {
     "name": "stdout",
     "output_type": "stream",
     "text": [
      "Square root:- [1.         1.41421356 1.73205081 2.         2.23606798]\n"
     ]
    }
   ],
   "source": [
    "var = np.array([1,2,3,4,5])\n",
    "\n",
    "print(\"Square root:-\",np.sqrt(var))"
   ]
  },
  {
   "cell_type": "code",
   "execution_count": 59,
   "id": "26cfc26e",
   "metadata": {},
   "outputs": [
    {
     "name": "stdout",
     "output_type": "stream",
     "text": [
      "Sin value :- [0.84147098 0.90929743 0.14112001]\n",
      "Cos value :- [ 0.54030231 -0.41614684 -0.9899925 ]\n"
     ]
    }
   ],
   "source": [
    "var2 = np.array([1,2,3])\n",
    "\n",
    "print(\"Sin value :-\" ,np.sin(var2))\n",
    "print(\"Cos value :-\" ,np.cos(var2))"
   ]
  },
  {
   "cell_type": "code",
   "execution_count": 61,
   "id": "e8e31da4",
   "metadata": {},
   "outputs": [
    {
     "name": "stdout",
     "output_type": "stream",
     "text": [
      "[ 1  3  6 10]\n"
     ]
    }
   ],
   "source": [
    "var2 = np.array([1,2,3,4])\n",
    "                                    # Adding continuously\n",
    "print(np.cumsum(var2))"
   ]
  },
  {
   "cell_type": "markdown",
   "id": "1f4de782",
   "metadata": {},
   "source": [
    "#  Shape and Reshaping"
   ]
  },
  {
   "cell_type": "code",
   "execution_count": 66,
   "id": "741365e0",
   "metadata": {},
   "outputs": [
    {
     "name": "stdout",
     "output_type": "stream",
     "text": [
      "[[1 2 3 4]\n",
      " [1 2 3 4]]\n",
      "\n",
      "(2, 4)\n"
     ]
    }
   ],
   "source": [
    "import numpy as np\n",
    "\n",
    "var = np.array([[1,2,3,4],[1,2,3,4]])\n",
    "\n",
    "print(var)\n",
    "print()\n",
    "print(var.shape)"
   ]
  },
  {
   "cell_type": "code",
   "execution_count": 70,
   "id": "b3bf2bd9",
   "metadata": {},
   "outputs": [
    {
     "name": "stdout",
     "output_type": "stream",
     "text": [
      "[[[[1 2 3 4]]]]\n",
      "4\n",
      "\n",
      "(1, 1, 1, 4)\n"
     ]
    }
   ],
   "source": [
    "var1 = np.array([1,2,3,4],ndmin = 4)\n",
    "\n",
    "print(var1)\n",
    "print(var1.ndim)\n",
    "print()\n",
    "print(var1.shape)"
   ]
  },
  {
   "cell_type": "markdown",
   "id": "dd3763e8",
   "metadata": {},
   "source": [
    "## Reshape"
   ]
  },
  {
   "cell_type": "code",
   "execution_count": 81,
   "id": "69cbde79",
   "metadata": {},
   "outputs": [
    {
     "name": "stdout",
     "output_type": "stream",
     "text": [
      "[[1 2]\n",
      " [3 4]\n",
      " [5 6]]\n",
      "2\n"
     ]
    }
   ],
   "source": [
    "var2 = np.array([1,2,3,4,5,6])\n",
    "\n",
    "x = var2.reshape(3,2)  #reshape(no of rows , no of elements)\n",
    "\n",
    "print(x)\n",
    "print(x.ndim)\n"
   ]
  },
  {
   "cell_type": "code",
   "execution_count": 94,
   "id": "4c42ba11",
   "metadata": {},
   "outputs": [
    {
     "name": "stdout",
     "output_type": "stream",
     "text": [
      "[[[ 1  2]\n",
      "  [ 3  4]\n",
      "  [ 5  6]\n",
      "  [ 7  8]]\n",
      "\n",
      " [[ 9 10]\n",
      "  [11 12]\n",
      "  [13 14]\n",
      "  [15 16]]]\n",
      "3\n"
     ]
    }
   ],
   "source": [
    "var3 = np.array([1,2,3,4,5,6,7,8,9,10,11,12,13,14,15,16])\n",
    "\n",
    "x = var3.reshape(2,4,2)  \n",
    "                     #reshape(no of rows , no of blocks,no of elements)\n",
    "print(x)\n",
    "print(x.ndim)\n"
   ]
  },
  {
   "cell_type": "code",
   "execution_count": 105,
   "id": "57c39231",
   "metadata": {},
   "outputs": [
    {
     "name": "stdout",
     "output_type": "stream",
     "text": [
      "[ 1  2  3  4  5  6  7  8  9 10 11 12]\n",
      "1\n",
      "\n",
      "[[[ 1  2]\n",
      "  [ 3  4]\n",
      "  [ 5  6]]\n",
      "\n",
      " [[ 7  8]\n",
      "  [ 9 10]\n",
      "  [11 12]]]\n",
      "3\n",
      "\n",
      "[ 1  2  3  4  5  6  7  8  9 10 11 12]\n",
      "1\n"
     ]
    }
   ],
   "source": [
    "var3 = np.array([1,2,3,4,5,6,7,8,9,10,11,12])\n",
    "print(var3)\n",
    "print(var3.ndim)\n",
    "print()\n",
    "\n",
    "x1=var3.reshape(2,3,2)\n",
    "\n",
    "print(x1)\n",
    "print(x1.ndim)\n",
    "\n",
    "print()\n",
    "one = x1.reshape(-1)\n",
    "print(one)\n",
    "print(one.ndim)"
   ]
  },
  {
   "cell_type": "markdown",
   "id": "e79af495",
   "metadata": {},
   "source": [
    "## Broadcasting"
   ]
  },
  {
   "cell_type": "code",
   "execution_count": 2,
   "id": "55777ac5",
   "metadata": {},
   "outputs": [
    {
     "name": "stdout",
     "output_type": "stream",
     "text": [
      "(3,)\n",
      "(3, 1)\n",
      "[[2 3 4]\n",
      " [3 4 5]\n",
      " [4 5 6]]\n"
     ]
    }
   ],
   "source": [
    "import numpy as np\n",
    "                             #Dimension should be same in both the array\n",
    "var1 = np.array([1,2,3])\n",
    "print(var1.shape)\n",
    "\n",
    "var2 = np.array([[1],[2],[3]])\n",
    "print(var2.shape)\n",
    "\n",
    "print(var1 + var2)"
   ]
  },
  {
   "cell_type": "code",
   "execution_count": 3,
   "id": "b326ab8d",
   "metadata": {},
   "outputs": [
    {
     "name": "stdout",
     "output_type": "stream",
     "text": [
      "(2, 1)\n",
      "(2, 3)\n"
     ]
    }
   ],
   "source": [
    "x = np.array([[1],[2]])\n",
    "print(x.shape)\n",
    "\n",
    "y = np.array([[1,2,3],[1,2,3]])\n",
    "print(y.shape)"
   ]
  },
  {
   "cell_type": "markdown",
   "id": "b39ae316",
   "metadata": {},
   "source": [
    "# Indexing in Numpy Arrays "
   ]
  },
  {
   "cell_type": "code",
   "execution_count": 5,
   "id": "228537fa",
   "metadata": {},
   "outputs": [
    {
     "name": "stdout",
     "output_type": "stream",
     "text": [
      "8\n",
      "8\n"
     ]
    }
   ],
   "source": [
    "import numpy as np\n",
    "\n",
    "var = np.array([9,8,7,6])\n",
    "#               0,1,2,3      \n",
    "#              -4,-3,-2,-1\n",
    "\n",
    "\n",
    "print(var[1])\n",
    "print(var[-3])"
   ]
  },
  {
   "cell_type": "code",
   "execution_count": 7,
   "id": "8c89fbb8",
   "metadata": {},
   "outputs": [
    {
     "name": "stdout",
     "output_type": "stream",
     "text": [
      "[[9 8 7]\n",
      " [4 5 6]]\n",
      "2\n",
      "\n",
      "7\n"
     ]
    }
   ],
   "source": [
    "var1 = np.array([[9,8,7],[4,5,6]])\n",
    "\n",
    "print(var1)\n",
    "print(var1.ndim)\n",
    "print()\n",
    "print(var1[0,2])"
   ]
  },
  {
   "cell_type": "code",
   "execution_count": 10,
   "id": "d70b3363",
   "metadata": {},
   "outputs": [
    {
     "name": "stdout",
     "output_type": "stream",
     "text": [
      "[[[1 2]\n",
      "  [6 7]]]\n",
      "3\n",
      "\n",
      "7\n"
     ]
    }
   ],
   "source": [
    "var2 = np.array([[[1,2],[6,7]]])\n",
    "\n",
    "print(var2)\n",
    "print(var2.ndim)\n",
    "print()\n",
    "print(var2[0,1,1])"
   ]
  },
  {
   "cell_type": "markdown",
   "id": "aeedd992",
   "metadata": {},
   "source": [
    "# Slicing in Numpy Arrays"
   ]
  },
  {
   "cell_type": "code",
   "execution_count": 18,
   "id": "3de35512",
   "metadata": {},
   "outputs": [
    {
     "name": "stdout",
     "output_type": "stream",
     "text": [
      "[1 2 3 4 5 6 7]\n",
      "\n",
      "[3 4 5 6]\n",
      "[4 5 6 7]\n",
      "[1 2 3 4 5]\n",
      "[2 4 6]\n"
     ]
    }
   ],
   "source": [
    "import numpy as np\n",
    "\n",
    "var = np.array([1,2,3,4,5,6,7])\n",
    "\n",
    "print(var)\n",
    "print()\n",
    "\n",
    "print(var[2:6])\n",
    "print(var[3:])\n",
    "print(var[:5])\n",
    "\n",
    "# Steping\n",
    "\n",
    "print(var[1:6:2])"
   ]
  },
  {
   "cell_type": "code",
   "execution_count": 25,
   "id": "488ffa12",
   "metadata": {},
   "outputs": [
    {
     "name": "stdout",
     "output_type": "stream",
     "text": [
      "[[ 1  2  3  4  5]\n",
      " [ 6  7  8  9 10]\n",
      " [11 12 13 14 15]]\n",
      "\n",
      "7\n",
      "12\n",
      "[13 14 15]\n"
     ]
    }
   ],
   "source": [
    "var1 = np.array([[1,2,3,4,5],[6,7,8,9,10],[11,12,13,14,15]])\n",
    "\n",
    "print(var1)\n",
    "print()\n",
    "\n",
    "print(var1[1,1])\n",
    "print(var1[2,1])\n",
    "print(var1[2,2:])"
   ]
  },
  {
   "cell_type": "markdown",
   "id": "77bae5f4",
   "metadata": {},
   "source": [
    "##  Iterating Numpy Arrays"
   ]
  },
  {
   "cell_type": "code",
   "execution_count": 2,
   "id": "832053d9",
   "metadata": {},
   "outputs": [
    {
     "name": "stdout",
     "output_type": "stream",
     "text": [
      "[9 8 7 6 5 4]\n",
      "\n",
      "9\n",
      "8\n",
      "7\n",
      "6\n",
      "5\n",
      "4\n"
     ]
    }
   ],
   "source": [
    "import numpy as np\n",
    "var = np.array([9,8,7,6,5,4])\n",
    "print(var)\n",
    "print()\n",
    "for i in var:\n",
    "    print(i)"
   ]
  },
  {
   "cell_type": "code",
   "execution_count": 8,
   "id": "a2cac30a",
   "metadata": {},
   "outputs": [
    {
     "name": "stdout",
     "output_type": "stream",
     "text": [
      "[[1 2 3 4]\n",
      " [1 2 3 4]]\n",
      "\n",
      "[1 2 3 4]\n",
      "[1 2 3 4]\n",
      "\n",
      "1\n",
      "2\n",
      "3\n",
      "4\n",
      "1\n",
      "2\n",
      "3\n",
      "4\n"
     ]
    }
   ],
   "source": [
    "var1 = np.array([[1,2,3,4],[1,2,3,4]])\n",
    "print(var1)\n",
    "print()\n",
    "\n",
    "for j in var1:\n",
    "    print(j)\n",
    "    \n",
    "print()\n",
    "\n",
    "for k in var1:\n",
    "    for l in k:\n",
    "        print(l)"
   ]
  },
  {
   "cell_type": "code",
   "execution_count": 17,
   "id": "14bcd0ed",
   "metadata": {},
   "outputs": [
    {
     "name": "stdout",
     "output_type": "stream",
     "text": [
      "[[[1 2 3]\n",
      "  [4 5 6]]]\n",
      "3\n",
      "\n",
      "1\n",
      "2\n",
      "3\n",
      "4\n",
      "5\n",
      "6\n"
     ]
    }
   ],
   "source": [
    "var3 = np.array([[[1,2,3],[4,5,6]]])\n",
    "print(var3)\n",
    "print(var3.ndim)\n",
    "print()\n",
    "\n",
    "for i in var3:\n",
    "    for j in i:\n",
    "        for k in j:\n",
    "            print(k)"
   ]
  },
  {
   "cell_type": "code",
   "execution_count": 22,
   "id": "70a943bf",
   "metadata": {},
   "outputs": [
    {
     "name": "stdout",
     "output_type": "stream",
     "text": [
      "[[[1 2 3]\n",
      "  [4 5 6]]]\n",
      "3\n",
      "\n",
      "1\n",
      "2\n",
      "3\n",
      "4\n",
      "5\n",
      "6\n"
     ]
    }
   ],
   "source": [
    "var3 = np.array([[[1,2,3],[4,5,6]]])\n",
    "print(var3)\n",
    "print(var3.ndim)\n",
    "print()\n",
    "\n",
    "for i in np.nditer(var3):\n",
    "    print(i)"
   ]
  },
  {
   "cell_type": "code",
   "execution_count": 21,
   "id": "274faf75",
   "metadata": {},
   "outputs": [
    {
     "name": "stdout",
     "output_type": "stream",
     "text": [
      "[[[1 2 3]\n",
      "  [4 5 6]]]\n",
      "3\n",
      "\n",
      "b'1'\n",
      "b'2'\n",
      "b'3'\n",
      "b'4'\n",
      "b'5'\n",
      "b'6'\n"
     ]
    }
   ],
   "source": [
    "var3 = np.array([[[1,2,3],[4,5,6]]])\n",
    "print(var3)\n",
    "print(var3.ndim)\n",
    "print()\n",
    "\n",
    "for i in np.nditer(var3,flags=['buffered'],op_dtypes=[\"S\"]):\n",
    "    print(i)"
   ]
  },
  {
   "cell_type": "code",
   "execution_count": 25,
   "id": "eb74ff1e",
   "metadata": {},
   "outputs": [
    {
     "name": "stdout",
     "output_type": "stream",
     "text": [
      "[[[1 2 3]\n",
      "  [4 5 6]]]\n",
      "3\n",
      "\n",
      "(0, 0, 0) 1\n",
      "(0, 0, 1) 2\n",
      "(0, 0, 2) 3\n",
      "(0, 1, 0) 4\n",
      "(0, 1, 1) 5\n",
      "(0, 1, 2) 6\n"
     ]
    }
   ],
   "source": [
    "var3 = np.array([[[1,2,3],[4,5,6]]])\n",
    "print(var3)\n",
    "print(var3.ndim)\n",
    "print()\n",
    "\n",
    "for i,d in np.ndenumerate(var3):\n",
    "    print(i,d)"
   ]
  },
  {
   "cell_type": "markdown",
   "id": "b8362daa",
   "metadata": {},
   "source": [
    "##  Copy vs View in Arrays"
   ]
  },
  {
   "cell_type": "code",
   "execution_count": 35,
   "id": "cd313cf7",
   "metadata": {},
   "outputs": [
    {
     "name": "stdout",
     "output_type": "stream",
     "text": [
      "var: [ 1 40  3  4]\n",
      "copy: [1 2 3 4]\n"
     ]
    }
   ],
   "source": [
    "import numpy as np\n",
    "\n",
    "var = np.array([1,2,3,4])\n",
    "\n",
    "co = var.copy()\n",
    "\n",
    "var[1]=40\n",
    "\n",
    "print(\"var:\",var)\n",
    "print(\"copy:\",co)"
   ]
  },
  {
   "cell_type": "code",
   "execution_count": 33,
   "id": "8c1478e8",
   "metadata": {},
   "outputs": [
    {
     "name": "stdout",
     "output_type": "stream",
     "text": [
      "x:  [ 9 40  7  6  5]\n",
      "view: [ 9 40  7  6  5]\n"
     ]
    }
   ],
   "source": [
    "x = np.array([9,8,7,6,5])\n",
    "\n",
    "vi = x.view()\n",
    "\n",
    "x[1]=40\n",
    "\n",
    "print(\"x: \",x)\n",
    "print(\"view:\",vi)"
   ]
  },
  {
   "cell_type": "markdown",
   "id": "1ec70548",
   "metadata": {},
   "source": [
    "## Join Array"
   ]
  },
  {
   "cell_type": "code",
   "execution_count": 38,
   "id": "970e8bf5",
   "metadata": {},
   "outputs": [
    {
     "name": "stdout",
     "output_type": "stream",
     "text": [
      "[9 8 7 6 1 2 3 4]\n"
     ]
    }
   ],
   "source": [
    "import numpy as np \n",
    "var = np.array([9,8,7,6])\n",
    "var1 = np.array([1,2,3,4])\n",
    "\n",
    "con = np.concatenate((var,var1))\n",
    "print(con)"
   ]
  },
  {
   "cell_type": "code",
   "execution_count": 44,
   "id": "cea1ccb2",
   "metadata": {},
   "outputs": [
    {
     "name": "stdout",
     "output_type": "stream",
     "text": [
      "[[9 8]\n",
      " [7 6]]\n",
      "\n",
      "[[1 2]\n",
      " [3 4]]\n",
      "\n",
      "[[9 8 1 2]\n",
      " [7 6 3 4]]\n",
      "\n",
      "[[9 8]\n",
      " [7 6]\n",
      " [1 2]\n",
      " [3 4]]\n"
     ]
    }
   ],
   "source": [
    "vr = np.array([[9,8],[7,6]])\n",
    "vr1 = np.array([[1,2],[3,4]])\n",
    "\n",
    "ar_new = np.concatenate((vr,vr1),axis=1)\n",
    "ar_new1 = np.concatenate((vr,vr1),axis=0)\n",
    "\n",
    "print(vr)\n",
    "print()\n",
    "print(vr1)\n",
    "print()\n",
    "print(ar_new)\n",
    "print()\n",
    "print(ar_new1)"
   ]
  },
  {
   "cell_type": "code",
   "execution_count": 51,
   "id": "01ef85b1",
   "metadata": {},
   "outputs": [
    {
     "name": "stdout",
     "output_type": "stream",
     "text": [
      "[[9 1]\n",
      " [8 2]\n",
      " [7 3]\n",
      " [6 4]]\n",
      "\n",
      "[[9 8 7 6]\n",
      " [1 2 3 4]]\n"
     ]
    }
   ],
   "source": [
    "var = np.array([9,8,7,6])\n",
    "var1 = np.array([1,2,3,4])\n",
    "\n",
    "ar = np.stack((var,var1),axis=1)\n",
    "ar1 = np.stack((var,var1),axis=0)\n",
    "\n",
    "\n",
    "print(ar)\n",
    "print()\n",
    "print(ar1)"
   ]
  },
  {
   "cell_type": "code",
   "execution_count": 54,
   "id": "83913e48",
   "metadata": {},
   "outputs": [
    {
     "name": "stdout",
     "output_type": "stream",
     "text": [
      "[9 8 7 6 1 2 3 4]\n",
      "\n",
      "[[9 8 7 6]\n",
      " [1 2 3 4]]\n",
      "\n",
      "[[[9 1]\n",
      "  [8 2]\n",
      "  [7 3]\n",
      "  [6 4]]]\n"
     ]
    }
   ],
   "source": [
    "var = np.array([9,8,7,6])\n",
    "var1 = np.array([1,2,3,4])\n",
    "\n",
    "ar = np.hstack((var,var1)) # row\n",
    "ar1 = np.vstack((var,var1)) # column\n",
    "ar2 = np.dstack((var,var1)) # height\n",
    "\n",
    "print(ar)\n",
    "print()\n",
    "print(ar1)\n",
    "print()\n",
    "print(ar2)"
   ]
  },
  {
   "cell_type": "markdown",
   "id": "fa6dd5e9",
   "metadata": {},
   "source": [
    "## Split Array"
   ]
  },
  {
   "cell_type": "code",
   "execution_count": 66,
   "id": "922a705c",
   "metadata": {},
   "outputs": [
    {
     "name": "stdout",
     "output_type": "stream",
     "text": [
      "[1 2 3 4 5 6]\n",
      "\n",
      "[array([1, 2]), array([3, 4]), array([5, 6])]\n",
      "<class 'list'>\n",
      "[3 4]\n"
     ]
    }
   ],
   "source": [
    "import numpy as np\n",
    "\n",
    "var = np.array([1,2,3,4,5,6])\n",
    "print(var)\n",
    "\n",
    "ar = np.array_split(var,3)\n",
    "print()\n",
    "print(ar)\n",
    "print(type(ar))\n",
    "print(ar[1])"
   ]
  },
  {
   "cell_type": "code",
   "execution_count": 70,
   "id": "62d91616",
   "metadata": {},
   "outputs": [
    {
     "name": "stdout",
     "output_type": "stream",
     "text": [
      "[1 2 3 4 5 6]\n",
      "\n",
      "[array([[1, 2]]), array([[3, 4]]), array([[5, 6]])]\n"
     ]
    }
   ],
   "source": [
    "var1 = np.array([[1,2],[3,4],[5,6]])\n",
    "print(var)\n",
    "\n",
    "ar1 = np.array_split(var1,3)\n",
    "print()\n",
    "print(ar1)"
   ]
  },
  {
   "cell_type": "code",
   "execution_count": 72,
   "id": "f6599b82",
   "metadata": {},
   "outputs": [
    {
     "name": "stdout",
     "output_type": "stream",
     "text": [
      "[1 2 3 4 5 6]\n",
      "\n",
      "[array([[1],\n",
      "       [3],\n",
      "       [5]]), array([[2],\n",
      "       [4],\n",
      "       [6]]), array([], shape=(3, 0), dtype=int32)]\n"
     ]
    }
   ],
   "source": [
    "var2 = np.array([[1,2],[3,4],[5,6]])\n",
    "print(var)\n",
    "\n",
    "ar2 = np.array_split(var1,3,axis=1)\n",
    "print()\n",
    "print(ar2)"
   ]
  },
  {
   "cell_type": "markdown",
   "id": "d9c3c3c4",
   "metadata": {},
   "source": [
    "## Search in Array  "
   ]
  },
  {
   "cell_type": "code",
   "execution_count": 73,
   "id": "1e710333",
   "metadata": {},
   "outputs": [],
   "source": [
    "import numpy as np "
   ]
  },
  {
   "cell_type": "code",
   "execution_count": 78,
   "id": "90202914",
   "metadata": {},
   "outputs": [
    {
     "name": "stdout",
     "output_type": "stream",
     "text": [
      "(array([1, 4, 6], dtype=int64),)\n"
     ]
    }
   ],
   "source": [
    "var = np.array([1,2,3,4,2,5,2,5,6,7])\n",
    "\n",
    "x = np.where(var == 2)\n",
    "print(x)"
   ]
  },
  {
   "cell_type": "code",
   "execution_count": 81,
   "id": "9a70ff57",
   "metadata": {},
   "outputs": [
    {
     "name": "stdout",
     "output_type": "stream",
     "text": [
      "(array([0, 1, 3, 4, 6, 8], dtype=int64),)\n"
     ]
    }
   ],
   "source": [
    "var = np.array([4,2,3,4,2,5,2,5,6,7])\n",
    "\n",
    "x = np.where((var%2) == 0)\n",
    "print(x)"
   ]
  },
  {
   "cell_type": "markdown",
   "id": "436fb1f3",
   "metadata": {},
   "source": [
    "## Search Sorted Array"
   ]
  },
  {
   "cell_type": "code",
   "execution_count": 93,
   "id": "d33a112a",
   "metadata": {},
   "outputs": [
    {
     "name": "stdout",
     "output_type": "stream",
     "text": [
      "[4 5 6]\n"
     ]
    }
   ],
   "source": [
    "var1 = np.array([1,2,3,4,6,7,8,9,10])\n",
    "\n",
    "x1 = np.searchsorted (var1,[5,6,7],side=\"right\")\n",
    "\n",
    "print(x1)\n"
   ]
  },
  {
   "cell_type": "markdown",
   "id": "39d2551f",
   "metadata": {},
   "source": [
    "##  Sort "
   ]
  },
  {
   "cell_type": "code",
   "execution_count": 96,
   "id": "5b0626aa",
   "metadata": {},
   "outputs": [
    {
     "name": "stdout",
     "output_type": "stream",
     "text": [
      "[ 1  2  3  4  5  6  7 12 22 52]\n"
     ]
    }
   ],
   "source": [
    "var1 = np.array([4,2,3,1,12,5,22,52,6,7])\n",
    "\n",
    "print(np.sort(var1))"
   ]
  },
  {
   "cell_type": "code",
   "execution_count": 98,
   "id": "8b7c1295",
   "metadata": {},
   "outputs": [
    {
     "name": "stdout",
     "output_type": "stream",
     "text": [
      "['a' 'c' 'd' 'e' 's']\n"
     ]
    }
   ],
   "source": [
    "var2 = np.array([\"a\",\"s\",\"d\",\"c\",\"e\"])\n",
    "\n",
    "print(np.sort(var2))"
   ]
  },
  {
   "cell_type": "code",
   "execution_count": 99,
   "id": "717ddeba",
   "metadata": {},
   "outputs": [
    {
     "name": "stdout",
     "output_type": "stream",
     "text": [
      "[[ 2  3  4]\n",
      " [ 1  5 12]\n",
      " [ 6 22 52]]\n"
     ]
    }
   ],
   "source": [
    "var3 = np.array([[4,2,3],[1,12,5],[22,52,6]])\n",
    "\n",
    "print(np.sort(var3))"
   ]
  },
  {
   "cell_type": "markdown",
   "id": "1114ba6a",
   "metadata": {},
   "source": [
    "##  Filter Array"
   ]
  },
  {
   "cell_type": "code",
   "execution_count": 105,
   "id": "4ec55d42",
   "metadata": {},
   "outputs": [
    {
     "name": "stdout",
     "output_type": "stream",
     "text": [
      "['a' 'd' 'c' 'e']\n",
      "<class 'numpy.ndarray'>\n"
     ]
    }
   ],
   "source": [
    "var4 = np.array([\"a\",\"s\",\"d\",\"c\",\"e\"])\n",
    "\n",
    "f = [True,False,True,True,True]\n",
    "new_a = var4[f]\n",
    "\n",
    "print(new_a)\n",
    "print(type(new_a))"
   ]
  },
  {
   "cell_type": "markdown",
   "id": "561d8ee3",
   "metadata": {},
   "source": [
    "##  Shuffle"
   ]
  },
  {
   "cell_type": "code",
   "execution_count": 106,
   "id": "4914c616",
   "metadata": {},
   "outputs": [],
   "source": [
    "import numpy as np"
   ]
  },
  {
   "cell_type": "code",
   "execution_count": 108,
   "id": "bf614f07",
   "metadata": {},
   "outputs": [
    {
     "name": "stdout",
     "output_type": "stream",
     "text": [
      "[1 2 3 6 5 4]\n"
     ]
    }
   ],
   "source": [
    "var = np.array([1,2,3,4,5,6])\n",
    "\n",
    "np.random.shuffle(var)\n",
    "\n",
    "print(var)\n"
   ]
  },
  {
   "cell_type": "markdown",
   "id": "00073cb4",
   "metadata": {},
   "source": [
    "##  Unique"
   ]
  },
  {
   "cell_type": "code",
   "execution_count": 109,
   "id": "ca3dfe7a",
   "metadata": {},
   "outputs": [
    {
     "name": "stdout",
     "output_type": "stream",
     "text": [
      "[1 2 3 4 5 6 7]\n"
     ]
    }
   ],
   "source": [
    "var1 = np.array([1,2,3,4,5,2,6,2,7])\n",
    "\n",
    "x = np.unique(var1)\n",
    "\n",
    "print(x)"
   ]
  },
  {
   "cell_type": "code",
   "execution_count": 111,
   "id": "63c08ce0",
   "metadata": {},
   "outputs": [
    {
     "name": "stdout",
     "output_type": "stream",
     "text": [
      "(array([1, 2, 3, 4, 5, 6, 7]), array([0, 1, 2, 3, 4, 6, 8], dtype=int64), array([1, 3, 1, 1, 1, 1, 1], dtype=int64))\n"
     ]
    }
   ],
   "source": [
    "var1 = np.array([1,2,3,4,5,2,6,2,7])\n",
    "\n",
    "x = np.unique(var1,return_index=True,return_counts=True)\n",
    "\n",
    "print(x)"
   ]
  },
  {
   "cell_type": "markdown",
   "id": "20d108f5",
   "metadata": {},
   "source": [
    "## Resize"
   ]
  },
  {
   "cell_type": "code",
   "execution_count": 115,
   "id": "0adcf05a",
   "metadata": {},
   "outputs": [
    {
     "name": "stdout",
     "output_type": "stream",
     "text": [
      "[[1 2 3]\n",
      " [4 5 6]]\n",
      "\n",
      "2\n"
     ]
    }
   ],
   "source": [
    "var2 = np.array([1,2,3,4,5,6])\n",
    "\n",
    "y = np.resize(var2,(2,3))\n",
    "\n",
    "print(y)\n",
    "print()\n",
    "print(y.ndim)"
   ]
  },
  {
   "cell_type": "code",
   "execution_count": 121,
   "id": "562434af",
   "metadata": {},
   "outputs": [
    {
     "name": "stdout",
     "output_type": "stream",
     "text": [
      "[[1 2 3]\n",
      " [4 5 6]\n",
      " [1 2 3]]\n",
      "\n",
      "2\n"
     ]
    }
   ],
   "source": [
    "var3 = np.array([1,2,3,4,5,6])\n",
    "\n",
    "x = np.resize(var2,(3,3))\n",
    "\n",
    "print(x)\n",
    "print()\n",
    "print(x.ndim)"
   ]
  },
  {
   "cell_type": "markdown",
   "id": "37eb580e",
   "metadata": {},
   "source": [
    "## Flatten"
   ]
  },
  {
   "cell_type": "code",
   "execution_count": 131,
   "id": "fa8a38ac",
   "metadata": {},
   "outputs": [
    {
     "name": "stdout",
     "output_type": "stream",
     "text": [
      "[[1 2]\n",
      " [3 4]\n",
      " [5 6]]\n",
      "\n",
      "Flatten: [1 3 5 2 4 6]\n"
     ]
    }
   ],
   "source": [
    "var2 = np.array([1,2,3,4,5,6])\n",
    "\n",
    "y = np.resize(var2,(3,2))\n",
    "\n",
    "print(y)\n",
    "print()\n",
    "print(\"Flatten:\",y.flatten(order=\"F\"))"
   ]
  },
  {
   "cell_type": "markdown",
   "id": "ea4e6c02",
   "metadata": {},
   "source": [
    "## Ravel"
   ]
  },
  {
   "cell_type": "code",
   "execution_count": 136,
   "id": "bdfd2280",
   "metadata": {},
   "outputs": [
    {
     "name": "stdout",
     "output_type": "stream",
     "text": [
      "[[1 2]\n",
      " [3 4]\n",
      " [5 6]]\n",
      "\n",
      "Flatten: [1 3 5 2 4 6]\n",
      "Ravel: [1 2 3 4 5 6]\n"
     ]
    }
   ],
   "source": [
    "var2 = np.array([1,2,3,4,5,6])\n",
    "\n",
    "y = np.resize(var2,(3,2))\n",
    "\n",
    "print(y)\n",
    "print()\n",
    "\n",
    "print(\"Flatten:\",y.flatten(order=\"F\"))\n",
    "print(\"Ravel:\",np.ravel(y,order=\"A\"))\n",
    "\n"
   ]
  },
  {
   "cell_type": "markdown",
   "id": "0b745aa8",
   "metadata": {},
   "source": [
    "##  Insert"
   ]
  },
  {
   "cell_type": "code",
   "execution_count": 139,
   "id": "d4b50cbc",
   "metadata": {},
   "outputs": [
    {
     "name": "stdout",
     "output_type": "stream",
     "text": [
      "[1 2 3 4]\n",
      "int32\n",
      "<class 'numpy.ndarray'>\n",
      "[ 1  2 40  3  4]\n"
     ]
    }
   ],
   "source": [
    "import numpy as np\n",
    "\n",
    "var = np.array([1,2,3,4])\n",
    "\n",
    "print(var)\n",
    "\n",
    "v = np.insert(var,2,40)\n",
    "\n",
    "print(var.dtype)\n",
    "print(type(var))\n",
    "print(v)"
   ]
  },
  {
   "cell_type": "code",
   "execution_count": 140,
   "id": "17ca7bf8",
   "metadata": {},
   "outputs": [
    {
     "name": "stdout",
     "output_type": "stream",
     "text": [
      "[1 2 3 4]\n",
      "int32\n",
      "<class 'numpy.ndarray'>\n",
      "[ 1  2 40  3  4 40]\n"
     ]
    }
   ],
   "source": [
    "var = np.array([1,2,3,4])\n",
    "\n",
    "print(var)\n",
    "\n",
    "y = np.insert(var,(2,4),40)\n",
    "\n",
    "print(var.dtype)\n",
    "print(type(var))\n",
    "print(y)"
   ]
  },
  {
   "cell_type": "code",
   "execution_count": 141,
   "id": "d3d59372",
   "metadata": {},
   "outputs": [],
   "source": [
    "# Float value cannot be accept only integer value can be acceptable"
   ]
  },
  {
   "cell_type": "code",
   "execution_count": 146,
   "id": "015b56d9",
   "metadata": {},
   "outputs": [
    {
     "name": "stdout",
     "output_type": "stream",
     "text": [
      "[[1 2 6 3]\n",
      " [1 2 6 3]]\n"
     ]
    }
   ],
   "source": [
    "var1 = np.array([[1,2,3],[1,2,3]])\n",
    "\n",
    "v1 = np.insert(var1, 2, 6, axis=1)\n",
    "\n",
    "print(v1)"
   ]
  },
  {
   "cell_type": "code",
   "execution_count": 150,
   "id": "1af68da8",
   "metadata": {},
   "outputs": [
    {
     "name": "stdout",
     "output_type": "stream",
     "text": [
      "[[ 1  2  3]\n",
      " [ 1  2  3]\n",
      " [22 23 24]]\n"
     ]
    }
   ],
   "source": [
    "var1 = np.array([[1,2,3],[1,2,3]])\n",
    "\n",
    "v2 = np.insert(var1, 2, [22,23,24], axis=0)\n",
    "\n",
    "print(v2)"
   ]
  },
  {
   "cell_type": "markdown",
   "id": "9e5e6772",
   "metadata": {},
   "source": [
    "##  Append"
   ]
  },
  {
   "cell_type": "code",
   "execution_count": 152,
   "id": "84a58175",
   "metadata": {},
   "outputs": [
    {
     "name": "stdout",
     "output_type": "stream",
     "text": [
      "[1 2 3 4]\n",
      "[1.  2.  3.  4.  6.5]\n"
     ]
    }
   ],
   "source": [
    "var = np.array([1,2,3,4])\n",
    "\n",
    "print(var)\n",
    "\n",
    "x = np.append(var,6.5)\n",
    "\n",
    "print(x)"
   ]
  },
  {
   "cell_type": "code",
   "execution_count": 156,
   "id": "b29a7e80",
   "metadata": {},
   "outputs": [
    {
     "name": "stdout",
     "output_type": "stream",
     "text": [
      "[[ 1  2  3]\n",
      " [ 1  2  3]\n",
      " [45 44 46]]\n"
     ]
    }
   ],
   "source": [
    "var1 = np.array([[1,2,3],[1,2,3]])\n",
    "\n",
    "x = np.append(var1,[[45,44,46]],axis=0)\n",
    "\n",
    "print(x)"
   ]
  },
  {
   "cell_type": "markdown",
   "id": "7883a8f4",
   "metadata": {},
   "source": [
    "## Delete"
   ]
  },
  {
   "cell_type": "code",
   "execution_count": 157,
   "id": "7c6b8afe",
   "metadata": {},
   "outputs": [
    {
     "name": "stdout",
     "output_type": "stream",
     "text": [
      "[1 2 3 4]\n",
      "[1 2 4]\n"
     ]
    }
   ],
   "source": [
    "var1 = np.array([1,2,3,4])\n",
    "\n",
    "print(var1)\n",
    "\n",
    "d = np.delete(var1,2)\n",
    "\n",
    "print(d)"
   ]
  },
  {
   "cell_type": "markdown",
   "id": "daf5a349",
   "metadata": {},
   "source": [
    "##  Matrix "
   ]
  },
  {
   "cell_type": "code",
   "execution_count": 1,
   "id": "4aca702a",
   "metadata": {},
   "outputs": [],
   "source": [
    "import numpy as np"
   ]
  },
  {
   "cell_type": "code",
   "execution_count": 7,
   "id": "79ada66e",
   "metadata": {},
   "outputs": [
    {
     "name": "stdout",
     "output_type": "stream",
     "text": [
      "[[1 2 3]\n",
      " [1 2 3]]\n",
      "<class 'numpy.matrix'>\n"
     ]
    }
   ],
   "source": [
    "var = np.matrix([[1,2,3],[1,2,3]])\n",
    "\n",
    "print(var)\n",
    "print(type(var))"
   ]
  },
  {
   "cell_type": "code",
   "execution_count": 5,
   "id": "9f8f9206",
   "metadata": {},
   "outputs": [
    {
     "name": "stdout",
     "output_type": "stream",
     "text": [
      "[[1 2 3]\n",
      " [1 2 3]]\n",
      "<class 'numpy.ndarray'>\n"
     ]
    }
   ],
   "source": [
    "var1 = np.array([[1,2,3],[1,2,3]])\n",
    "\n",
    "print(var1)\n",
    "print(type(var1))"
   ]
  },
  {
   "cell_type": "markdown",
   "id": "7156e2c2",
   "metadata": {},
   "source": [
    "## Arithmetic Operation in Matrix"
   ]
  },
  {
   "cell_type": "code",
   "execution_count": 8,
   "id": "fb8531b5",
   "metadata": {},
   "outputs": [
    {
     "name": "stdout",
     "output_type": "stream",
     "text": [
      "[[2 4 6]\n",
      " [2 4 6]]\n"
     ]
    }
   ],
   "source": [
    "var2 = np.matrix([[1,2,3],[1,2,3]])\n",
    "var3 = np.matrix([[1,2,3],[1,2,3]])\n",
    "\n",
    "print(var2 + var3)"
   ]
  },
  {
   "cell_type": "code",
   "execution_count": 10,
   "id": "7bfd6450",
   "metadata": {},
   "outputs": [
    {
     "name": "stdout",
     "output_type": "stream",
     "text": [
      "[[0 0 0]\n",
      " [0 0 0]]\n"
     ]
    }
   ],
   "source": [
    "print(var2 - var3)"
   ]
  },
  {
   "cell_type": "code",
   "execution_count": 16,
   "id": "341ff5a0",
   "metadata": {},
   "outputs": [
    {
     "name": "stdout",
     "output_type": "stream",
     "text": [
      "[[3 6]\n",
      " [3 6]]\n"
     ]
    }
   ],
   "source": [
    "var4 = np.matrix([[1,2],[1,2]])\n",
    "var5 = np.matrix([[1,2],[1,2]])\n",
    "\n",
    "print(var4 * var5)"
   ]
  },
  {
   "cell_type": "code",
   "execution_count": 19,
   "id": "b175d324",
   "metadata": {},
   "outputs": [
    {
     "name": "stdout",
     "output_type": "stream",
     "text": [
      "[[3 6]\n",
      " [3 6]]\n"
     ]
    }
   ],
   "source": [
    "print(var4.dot(var5))"
   ]
  },
  {
   "cell_type": "code",
   "execution_count": 21,
   "id": "926029ec",
   "metadata": {},
   "outputs": [
    {
     "name": "stdout",
     "output_type": "stream",
     "text": [
      "[[1 4]\n",
      " [1 4]]\n"
     ]
    }
   ],
   "source": [
    "var4 = np.array([[1,2],[1,2]])\n",
    "var5 = np.array([[1,2],[1,2]])\n",
    "\n",
    "print(var4 * var5)"
   ]
  },
  {
   "cell_type": "markdown",
   "id": "c31190d8",
   "metadata": {},
   "source": [
    "## Matrix Function"
   ]
  },
  {
   "cell_type": "code",
   "execution_count": 1,
   "id": "3dea4bdb",
   "metadata": {},
   "outputs": [],
   "source": [
    "import numpy as np "
   ]
  },
  {
   "cell_type": "code",
   "execution_count": 3,
   "id": "b47c5d51",
   "metadata": {},
   "outputs": [
    {
     "name": "stdout",
     "output_type": "stream",
     "text": [
      "[[1 2 3]\n",
      " [4 5 6]]\n",
      "\n",
      "[[1 4]\n",
      " [2 5]\n",
      " [3 6]]\n",
      "\n",
      "[[1 4]\n",
      " [2 5]\n",
      " [3 6]]\n"
     ]
    }
   ],
   "source": [
    "# Transpose\n",
    "\n",
    "var = np.matrix([[1,2,3],[4,5,6]])\n",
    "print(var)\n",
    "print()\n",
    "\n",
    "print(np.transpose(var))\n",
    "print()\n",
    "print(var.T)"
   ]
  },
  {
   "cell_type": "code",
   "execution_count": 4,
   "id": "8d44c01b",
   "metadata": {},
   "outputs": [
    {
     "name": "stdout",
     "output_type": "stream",
     "text": [
      "[[1 2]\n",
      " [3 4]]\n",
      "\n",
      "[[1 3]\n",
      " [2 4]]\n"
     ]
    }
   ],
   "source": [
    "# Swapaxes\n",
    "\n",
    "var2 = np.matrix([[1,2],[3,4]])\n",
    "print(var2)\n",
    "print()\n",
    "print(np.swapaxes(var2,0,1))"
   ]
  },
  {
   "cell_type": "code",
   "execution_count": 6,
   "id": "ee28644f",
   "metadata": {},
   "outputs": [
    {
     "name": "stdout",
     "output_type": "stream",
     "text": [
      "[[1 2]\n",
      " [3 4]]\n",
      "\n",
      "[[-2.   1. ]\n",
      " [ 1.5 -0.5]]\n"
     ]
    }
   ],
   "source": [
    "# Inverse\n",
    "\n",
    "var3 = np.matrix([[1,2],[3,4]])\n",
    "print(var3)\n",
    "print()\n",
    "\n",
    "print(np.linalg.inv(var3))"
   ]
  },
  {
   "cell_type": "code",
   "execution_count": 13,
   "id": "e1f33f02",
   "metadata": {},
   "outputs": [
    {
     "name": "stdout",
     "output_type": "stream",
     "text": [
      "[[1 2]\n",
      " [3 4]]\n",
      "\n",
      "[[1 0]\n",
      " [0 1]]\n"
     ]
    }
   ],
   "source": [
    "# Power\n",
    "\n",
    "var3 = np.matrix([[1,2],[3,4]])                                     # n = 0 (identity matrix)\n",
    "print(var3)                                                         # n > 0 (power(mult))\n",
    "print()                                                             # n < 0 (Inverse x Power)\n",
    "\n",
    "print(np.linalg.matrix_power(var3,0))"
   ]
  },
  {
   "cell_type": "code",
   "execution_count": 14,
   "id": "6fbeb816",
   "metadata": {},
   "outputs": [
    {
     "name": "stdout",
     "output_type": "stream",
     "text": [
      "[[1 2]\n",
      " [3 4]]\n",
      "\n",
      "[[ 7 10]\n",
      " [15 22]]\n"
     ]
    }
   ],
   "source": [
    "var3 = np.matrix([[1,2],[3,4]])                                     # n = 0 (identity matrix)\n",
    "print(var3)                                                         # n > 0 (power(mult))\n",
    "print()                                                             # n < 0 (Inverse x Power)\n",
    "\n",
    "print(np.linalg.matrix_power(var3,2))"
   ]
  },
  {
   "cell_type": "code",
   "execution_count": 15,
   "id": "42774c9a",
   "metadata": {},
   "outputs": [
    {
     "name": "stdout",
     "output_type": "stream",
     "text": [
      "[[1 2]\n",
      " [3 4]]\n",
      "\n",
      "[[-14.75    6.75 ]\n",
      " [ 10.125  -4.625]]\n"
     ]
    }
   ],
   "source": [
    "var3 = np.matrix([[1,2],[3,4]])                                     # n = 0 (identity matrix)\n",
    "print(var3)                                                         # n > 0 (power(mult))\n",
    "print()                                                             # n < 0 (Inverse x Power)\n",
    "\n",
    "print(np.linalg.matrix_power(var3,-2))"
   ]
  },
  {
   "cell_type": "code",
   "execution_count": 19,
   "id": "d5cbbb38",
   "metadata": {},
   "outputs": [
    {
     "name": "stdout",
     "output_type": "stream",
     "text": [
      "[[1 2]\n",
      " [3 4]]\n",
      "\n",
      "-2.0000000000000004\n"
     ]
    }
   ],
   "source": [
    "# Determinate\n",
    "\n",
    "var4 = np.matrix([[1,2],[3,4]])                                    \n",
    "print(var4)                                                         \n",
    "print()                                                            \n",
    "print(np.linalg.linalg.det(var4))"
   ]
  },
  {
   "cell_type": "code",
   "execution_count": 18,
   "id": "25adca2a",
   "metadata": {},
   "outputs": [
    {
     "name": "stdout",
     "output_type": "stream",
     "text": [
      "[[1 2 3]\n",
      " [3 4 3]\n",
      " [1 2 3]]\n",
      "\n",
      "0.0\n"
     ]
    }
   ],
   "source": [
    "var5 = np.matrix([[1,2,3],[3,4,3],[1,2,3]])                                    \n",
    "print(var5)                                                         \n",
    "print()                                                            \n",
    "print(np.linalg.linalg.det(var5))"
   ]
  }
 ],
 "metadata": {
  "kernelspec": {
   "display_name": "Python 3 (ipykernel)",
   "language": "python",
   "name": "python3"
  },
  "language_info": {
   "codemirror_mode": {
    "name": "ipython",
    "version": 3
   },
   "file_extension": ".py",
   "mimetype": "text/x-python",
   "name": "python",
   "nbconvert_exporter": "python",
   "pygments_lexer": "ipython3",
   "version": "3.11.4"
  }
 },
 "nbformat": 4,
 "nbformat_minor": 5
}
